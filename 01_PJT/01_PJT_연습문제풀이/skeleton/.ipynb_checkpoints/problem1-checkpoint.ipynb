{
 "cells": [
  {
   "cell_type": "code",
   "execution_count": 3,
   "id": "48c3af78",
   "metadata": {},
   "outputs": [],
   "source": [
    "# 필요 패키지 import\n",
    "import pprint\n",
    "import requests"
   ]
  },
  {
   "cell_type": "markdown",
   "id": "d5723667",
   "metadata": {},
   "source": [
    "# 문제1. 전체 정기예금의 응답을 json 형태로 변환하여 key 값만 출력하시오.\n",
    "- 공식문서의 요청변수와 예제 요청결과(JSON) 부분을 참고합니다.\n",
    "- [힌트] 아래와 같은 순서로 데이터를 출력하며 진행합니다.\n",
    "- 1. 응답을 json 형식으로 변환합니다.\n",
    "- 2. key 값이 \"result\" 인 데이터에 모든 정보가 담겨 있습니다.\n",
    "- 3. key 값이 \"result\" 인 데이터의 key 값만 출력합니다."
   ]
  },
  {
   "cell_type": "code",
   "execution_count": 7,
   "id": "dcdb1972",
   "metadata": {},
   "outputs": [],
   "source": [
    "def get_deposit_product():\n",
    "    api_key = \"957d9a90c722f26f20d21e7fbbefeab1\"\n",
    "\n",
    "    url = f'http://finlife.fss.or.kr/finlifeapi/depositProductsSearch.json'\n",
    "    params = {\n",
    "        'auth' : api_key,\n",
    "        # 금융회사 코드 ---\n",
    "        'topFinGrpNo' : '020000',\n",
    "        'pageNo' : 1\n",
    "    }\n",
    "\n",
    "    # 응답을 json 형태로 변환\n",
    "    response = requests.get(url, params=params).json()\n",
    "    key_set = response[\"result\"].keys()\n",
    "    return key_set "
   ]
  },
  {
   "cell_type": "code",
   "execution_count": 8,
   "id": "9a3c23f1",
   "metadata": {},
   "outputs": [
    {
     "name": "stdout",
     "output_type": "stream",
     "text": [
      "dict_keys(['prdt_div', 'total_count', 'max_page_no', 'now_page_no', 'err_cd', 'err_msg', 'baseList', 'optionList'])\n"
     ]
    }
   ],
   "source": [
    "# 아래 코드는 수정하지 않습니다.\n",
    "if __name__ == '__main__':\n",
    "    # json 형태의 데이터 반환\n",
    "    result = get_deposit_product()\n",
    "    # prrint.prrint(): json 을 보기 좋은 형식으로 출력\n",
    "    pprint.pprint(result)"
   ]
  },
  {
   "cell_type": "code",
   "execution_count": null,
   "id": "4e5c737d",
   "metadata": {},
   "outputs": [],
   "source": []
  }
 ],
 "metadata": {
  "kernelspec": {
   "display_name": "Python 3 (ipykernel)",
   "language": "python",
   "name": "python3"
  },
  "language_info": {
   "codemirror_mode": {
    "name": "ipython",
    "version": 3
   },
   "file_extension": ".py",
   "mimetype": "text/x-python",
   "name": "python",
   "nbconvert_exporter": "python",
   "pygments_lexer": "ipython3",
   "version": "3.9.13"
  }
 },
 "nbformat": 4,
 "nbformat_minor": 5
}
