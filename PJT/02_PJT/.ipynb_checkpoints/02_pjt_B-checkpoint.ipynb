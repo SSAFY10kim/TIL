{
 "cells": [
  {
   "cell_type": "markdown",
   "id": "93d048fb",
   "metadata": {},
   "source": [
    "## 데이터 전처리 - 2021년 이후의 종가 데이터 출력하기\n",
    "\n",
    "csv 파일을 DataFrame으로 읽어와 2021년 이후의 데이터만 필터링합니다.\n",
    "    필터링이 가능한 형식으로 데이터 타입을 변경한 후 필터링 진행\n",
    "    Pandas의 to_datetime()을 활용\n",
    "    \n",
    "필터링이 완료된 DataFrame의 종가데이터를 Matplotlib를 사용하여 시각화"
   ]
  },
  {
   "cell_type": "code",
   "execution_count": 6,
   "id": "98bd4899",
   "metadata": {},
   "outputs": [],
   "source": [
    "import numpy as np\n",
    "import pandas as pd\n",
    "import matplotlib.pyplot as plt"
   ]
  },
  {
   "cell_type": "code",
   "execution_count": 61,
   "id": "9a400c9c",
   "metadata": {},
   "outputs": [
    {
     "data": {
      "text/html": [
       "<div>\n",
       "<style scoped>\n",
       "    .dataframe tbody tr th:only-of-type {\n",
       "        vertical-align: middle;\n",
       "    }\n",
       "\n",
       "    .dataframe tbody tr th {\n",
       "        vertical-align: top;\n",
       "    }\n",
       "\n",
       "    .dataframe thead th {\n",
       "        text-align: right;\n",
       "    }\n",
       "</style>\n",
       "<table border=\"1\" class=\"dataframe\">\n",
       "  <thead>\n",
       "    <tr style=\"text-align: right;\">\n",
       "      <th></th>\n",
       "      <th>Date</th>\n",
       "      <th>Open</th>\n",
       "      <th>High</th>\n",
       "      <th>Low</th>\n",
       "      <th>Close</th>\n",
       "    </tr>\n",
       "  </thead>\n",
       "  <tbody>\n",
       "    <tr>\n",
       "      <th>0</th>\n",
       "      <td>2018-02-05</td>\n",
       "      <td>262.000000</td>\n",
       "      <td>267.899994</td>\n",
       "      <td>250.029999</td>\n",
       "      <td>254.259995</td>\n",
       "    </tr>\n",
       "    <tr>\n",
       "      <th>1</th>\n",
       "      <td>2018-02-06</td>\n",
       "      <td>247.699997</td>\n",
       "      <td>266.700012</td>\n",
       "      <td>245.000000</td>\n",
       "      <td>265.720001</td>\n",
       "    </tr>\n",
       "    <tr>\n",
       "      <th>2</th>\n",
       "      <td>2018-02-07</td>\n",
       "      <td>266.579987</td>\n",
       "      <td>272.450012</td>\n",
       "      <td>264.329987</td>\n",
       "      <td>264.559998</td>\n",
       "    </tr>\n",
       "    <tr>\n",
       "      <th>3</th>\n",
       "      <td>2018-02-08</td>\n",
       "      <td>267.079987</td>\n",
       "      <td>267.619995</td>\n",
       "      <td>250.000000</td>\n",
       "      <td>250.100006</td>\n",
       "    </tr>\n",
       "    <tr>\n",
       "      <th>4</th>\n",
       "      <td>2018-02-09</td>\n",
       "      <td>253.850006</td>\n",
       "      <td>255.800003</td>\n",
       "      <td>236.110001</td>\n",
       "      <td>249.470001</td>\n",
       "    </tr>\n",
       "    <tr>\n",
       "      <th>...</th>\n",
       "      <td>...</td>\n",
       "      <td>...</td>\n",
       "      <td>...</td>\n",
       "      <td>...</td>\n",
       "      <td>...</td>\n",
       "    </tr>\n",
       "    <tr>\n",
       "      <th>1004</th>\n",
       "      <td>2022-01-31</td>\n",
       "      <td>401.970001</td>\n",
       "      <td>427.700012</td>\n",
       "      <td>398.200012</td>\n",
       "      <td>427.140015</td>\n",
       "    </tr>\n",
       "    <tr>\n",
       "      <th>1005</th>\n",
       "      <td>2022-02-01</td>\n",
       "      <td>432.959991</td>\n",
       "      <td>458.480011</td>\n",
       "      <td>425.540009</td>\n",
       "      <td>457.130005</td>\n",
       "    </tr>\n",
       "    <tr>\n",
       "      <th>1006</th>\n",
       "      <td>2022-02-02</td>\n",
       "      <td>448.250000</td>\n",
       "      <td>451.980011</td>\n",
       "      <td>426.480011</td>\n",
       "      <td>429.480011</td>\n",
       "    </tr>\n",
       "    <tr>\n",
       "      <th>1007</th>\n",
       "      <td>2022-02-03</td>\n",
       "      <td>421.440002</td>\n",
       "      <td>429.260010</td>\n",
       "      <td>404.279999</td>\n",
       "      <td>405.600006</td>\n",
       "    </tr>\n",
       "    <tr>\n",
       "      <th>1008</th>\n",
       "      <td>2022-02-04</td>\n",
       "      <td>407.309998</td>\n",
       "      <td>412.769989</td>\n",
       "      <td>396.640015</td>\n",
       "      <td>410.170013</td>\n",
       "    </tr>\n",
       "  </tbody>\n",
       "</table>\n",
       "<p>1009 rows × 5 columns</p>\n",
       "</div>"
      ],
      "text/plain": [
       "            Date        Open        High         Low       Close\n",
       "0     2018-02-05  262.000000  267.899994  250.029999  254.259995\n",
       "1     2018-02-06  247.699997  266.700012  245.000000  265.720001\n",
       "2     2018-02-07  266.579987  272.450012  264.329987  264.559998\n",
       "3     2018-02-08  267.079987  267.619995  250.000000  250.100006\n",
       "4     2018-02-09  253.850006  255.800003  236.110001  249.470001\n",
       "...          ...         ...         ...         ...         ...\n",
       "1004  2022-01-31  401.970001  427.700012  398.200012  427.140015\n",
       "1005  2022-02-01  432.959991  458.480011  425.540009  457.130005\n",
       "1006  2022-02-02  448.250000  451.980011  426.480011  429.480011\n",
       "1007  2022-02-03  421.440002  429.260010  404.279999  405.600006\n",
       "1008  2022-02-04  407.309998  412.769989  396.640015  410.170013\n",
       "\n",
       "[1009 rows x 5 columns]"
      ]
     },
     "execution_count": 61,
     "metadata": {},
     "output_type": "execute_result"
    }
   ],
   "source": [
    "csv_path = \"netflix_data/NFLX.csv\"\n",
    "\n",
    "df = pd.read_csv(csv_path, usecols = range(0,5))\n",
    "\n",
    "df"
   ]
  },
  {
   "cell_type": "code",
   "execution_count": 134,
   "id": "10c677c6",
   "metadata": {},
   "outputs": [
    {
     "data": {
      "text/plain": [
       "733    2021-01-04\n",
       "734    2021-01-05\n",
       "735    2021-01-06\n",
       "736    2021-01-07\n",
       "737    2021-01-08\n",
       "          ...    \n",
       "1004   2022-01-31\n",
       "1005   2022-02-01\n",
       "1006   2022-02-02\n",
       "1007   2022-02-03\n",
       "1008   2022-02-04\n",
       "Name: Date, Length: 276, dtype: datetime64[ns]"
      ]
     },
     "execution_count": 134,
     "metadata": {},
     "output_type": "execute_result"
    }
   ],
   "source": [
    "df_after_2021 = df[df[\"Date\"] >= \"2021-01-01\"]\n",
    "\n",
    "pd.to_datetime(df_after_2021['Date'])"
   ]
  },
  {
   "cell_type": "code",
   "execution_count": 136,
   "id": "b3f258f6",
   "metadata": {},
   "outputs": [
    {
     "data": {
      "image/png": "[encoded data removed]",
      "text/plain": [
       "<Figure size 640x480 with 1 Axes>"
      ]
     },
     "metadata": {},
     "output_type": "display_data"
    }
   ],
   "source": [
    "plt.plot(df_after_2021[\"Date\"], df_after_2021['Close'])\n",
    "\n",
    "# 제목 설정22\n",
    "plt.title(\"NFLX Close Price\")\n",
    "\n",
    "plt.xlabel('Date')\n",
    "\n",
    "plt.ylabel('Price')\n",
    "\n",
    "plt.xticks(rotation=45)\n",
    "\n",
    "plt.show()"
   ]
  },
  {
   "cell_type": "code",
   "execution_count": null,
   "id": "ae3a86af",
   "metadata": {},
   "outputs": [],
   "source": []
  }
 ],
 "metadata": {
  "kernelspec": {
   "display_name": "Python 3 (ipykernel)",
   "language": "python",
   "name": "python3"
  },
  "language_info": {
   "codemirror_mode": {
    "name": "ipython",
    "version": 3
   },
   "file_extension": ".py",
   "mimetype": "text/x-python",
   "name": "python",
   "nbconvert_exporter": "python",
   "pygments_lexer": "ipython3",
   "version": "3.9.13"
  },
  "toc": {
   "base_numbering": 1,
   "nav_menu": {},
   "number_sections": true,
   "sideBar": true,
   "skip_h1_title": false,
   "title_cell": "Table of Contents",
   "title_sidebar": "Contents",
   "toc_cell": false,
   "toc_position": {},
   "toc_section_display": true,
   "toc_window_display": false
  }
 },
 "nbformat": 4,
 "nbformat_minor": 5
}
