{
 "cells": [
  {
   "cell_type": "code",
   "execution_count": null,
   "id": "086f0633",
   "metadata": {},
   "outputs": [],
   "source": []
  },
  {
   "cell_type": "markdown",
   "id": "7c856c9a",
   "metadata": {},
   "source": [
    "##  `y` : 다시 코드모드로 변경\n",
    "##  `m` : 쉘 하나가 마크 다운 모드로 변경\n",
    "## `a` : 커서 기준 위에 쉘 하나 추가\n",
    "## `b` : 커서 기준 아래 쉘 하나 추가\n",
    "## `dd` : 쉘 삭제\n",
    "## `Shift + enter` : 실행 후 커서를 아래로 이동\n",
    "## `ctrl + enter` : 실행 후 커서를 제자리에"
   ]
  },
  {
   "cell_type": "code",
   "execution_count": 2,
   "id": "a1a94cdb",
   "metadata": {},
   "outputs": [
    {
     "name": "stdout",
     "output_type": "stream",
     "text": [
      "test\n"
     ]
    }
   ],
   "source": [
    "print('test')"
   ]
  },
  {
   "cell_type": "code",
   "execution_count": 3,
   "id": "d229f815",
   "metadata": {},
   "outputs": [],
   "source": [
    "API_key = '0c564d3a6a2b7894748da2c50e47012b'"
   ]
  },
  {
   "cell_type": "code",
   "execution_count": 15,
   "id": "3d0e3e74",
   "metadata": {},
   "outputs": [],
   "source": [
    "city_name = 'Busan, kr'\n",
    "url = f'https://api.openweathermap.org/data/2.5/weather?q={city_name}&appid={API_key}'"
   ]
  },
  {
   "cell_type": "code",
   "execution_count": 22,
   "id": "852bfeda",
   "metadata": {},
   "outputs": [
    {
     "data": {
      "text/plain": [
       "26.99000000000001"
      ]
     },
     "execution_count": 22,
     "metadata": {},
     "output_type": "execute_result"
    }
   ],
   "source": [
    "import requests\n",
    "# API 요청 보내기\n",
    "response = requests.get(url).json() # .json()을 통해 dict 으로 변환\n",
    "temp = response['main'][\"temp\"]\n",
    "# 섭씨온도\n",
    "temp -= 273.15\n",
    "temp"
   ]
  },
  {
   "cell_type": "code",
   "execution_count": 25,
   "id": "5bb80123",
   "metadata": {},
   "outputs": [
    {
     "data": {
      "text/plain": [
       "{'coord': {'lon': 129.0403, 'lat': 35.1028},\n",
       " 'weather': [{'id': 803,\n",
       "   'main': 'Clouds',\n",
       "   'description': 'broken clouds',\n",
       "   'icon': '04d'}],\n",
       " 'base': 'stations',\n",
       " 'main': {'temp': 300.14,\n",
       "  'feels_like': 302.68,\n",
       "  'temp_min': 300.14,\n",
       "  'temp_max': 300.14,\n",
       "  'pressure': 1013,\n",
       "  'humidity': 78},\n",
       " 'visibility': 9000,\n",
       " 'wind': {'speed': 1.54, 'deg': 150},\n",
       " 'clouds': {'all': 75},\n",
       " 'dt': 1689903735,\n",
       " 'sys': {'type': 1,\n",
       "  'id': 8086,\n",
       "  'country': 'KR',\n",
       "  'sunrise': 1689884654,\n",
       "  'sunset': 1689935748},\n",
       " 'timezone': 32400,\n",
       " 'id': 1838524,\n",
       " 'name': 'Busan',\n",
       " 'cod': 200}"
      ]
     },
     "execution_count": 25,
     "metadata": {},
     "output_type": "execute_result"
    }
   ],
   "source": [
    "response"
   ]
  },
  {
   "cell_type": "code",
   "execution_count": null,
   "id": "6a4afa94",
   "metadata": {},
   "outputs": [],
   "source": []
  },
  {
   "cell_type": "code",
   "execution_count": null,
   "id": "08d29622",
   "metadata": {},
   "outputs": [],
   "source": []
  },
  {
   "cell_type": "code",
   "execution_count": null,
   "id": "78943796",
   "metadata": {},
   "outputs": [],
   "source": []
  },
  {
   "cell_type": "code",
   "execution_count": null,
   "id": "3e969d4f",
   "metadata": {},
   "outputs": [],
   "source": []
  }
 ],
 "metadata": {
  "kernelspec": {
   "display_name": "Python 3 (ipykernel)",
   "language": "python",
   "name": "python3"
  },
  "language_info": {
   "codemirror_mode": {
    "name": "ipython",
    "version": 3
   },
   "file_extension": ".py",
   "mimetype": "text/x-python",
   "name": "python",
   "nbconvert_exporter": "python",
   "pygments_lexer": "ipython3",
   "version": "3.9.13"
  },
  "toc": {
   "base_numbering": 1,
   "nav_menu": {},
   "number_sections": true,
   "sideBar": true,
   "skip_h1_title": false,
   "title_cell": "Table of Contents",
   "title_sidebar": "Contents",
   "toc_cell": false,
   "toc_position": {},
   "toc_section_display": true,
   "toc_window_display": false
  }
 },
 "nbformat": 4,
 "nbformat_minor": 5
}
